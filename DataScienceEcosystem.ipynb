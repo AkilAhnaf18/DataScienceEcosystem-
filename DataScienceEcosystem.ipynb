{
 "cells": [
  {
   "cell_type": "markdown",
   "id": "2cb2f90a-0578-4a4e-b95f-facb5105b388",
   "metadata": {},
   "source": [
    "# Data Science Tools and Ecosystem"
   ]
  },
  {
   "cell_type": "markdown",
   "id": "4df8a3f9-8c6a-4737-9e5e-734fecc248a5",
   "metadata": {},
   "source": [
    "In this notebook, Data Science Tools and Ecosystem are summarized."
   ]
  },
  {
   "cell_type": "markdown",
   "id": "bab9de84-4fca-446a-8303-840c1a8fd132",
   "metadata": {},
   "source": [
    "**Objectives**\n",
    "- Creating ordered and unordered lists \n",
    "- Creating columns with headers \n",
    "- Listing popular languages and libraries for data science \n",
    "- Basic arithmetic using python"
   ]
  },
  {
   "cell_type": "markdown",
   "id": "7e69e144-06fb-4a4d-a589-038da23c124b",
   "metadata": {},
   "source": [
    "Some of the popular languages that Data Scientists use are:\n",
    "1. Python\n",
    "2. R \n",
    "3. Julia \n",
    "4. Java"
   ]
  },
  {
   "cell_type": "markdown",
   "id": "48994a42-73f8-4b8b-8081-54e62340ff5a",
   "metadata": {
    "tags": []
   },
   "source": [
    "Some of the commonly used libraries used by Data Scientists include:\n",
    "1. NumPy\n",
    "2. pandas\n",
    "3. Matplotlib\n",
    "4. TensorFlow "
   ]
  },
  {
   "cell_type": "markdown",
   "id": "84c25014-f1d3-4668-b6f5-f492f914cb38",
   "metadata": {},
   "source": [
    "|Data Science Tools|\n",
    "|-------------|\n",
    "|Jupyter Notebook|\n",
    "|Rstudio|\n",
    "|Spyder|\n",
    "|VS Code|"
   ]
  },
  {
   "cell_type": "markdown",
   "id": "6d20bf58-2460-4220-916f-3acdd27ac457",
   "metadata": {},
   "source": [
    "### Below are a few examples of evaluating arithmetic expressions in Python\n"
   ]
  },
  {
   "cell_type": "code",
   "execution_count": 11,
   "id": "d71e99e3-de01-4c80-b67a-a7c0ac86e12c",
   "metadata": {
    "tags": []
   },
   "outputs": [
    {
     "data": {
      "text/plain": [
       "2"
      ]
     },
     "execution_count": 11,
     "metadata": {},
     "output_type": "execute_result"
    }
   ],
   "source": [
    "1 + 1"
   ]
  },
  {
   "cell_type": "code",
   "execution_count": 13,
   "id": "15c3d28c-5653-46fd-969e-099147b1c13f",
   "metadata": {
    "tags": []
   },
   "outputs": [
    {
     "data": {
      "text/plain": [
       "16"
      ]
     },
     "execution_count": 13,
     "metadata": {},
     "output_type": "execute_result"
    }
   ],
   "source": [
    "4 * 4"
   ]
  },
  {
   "cell_type": "code",
   "execution_count": null,
   "id": "8d838991-ea6f-4905-9ebe-c5f605fd5fae",
   "metadata": {},
   "outputs": [],
   "source": []
  },
  {
   "cell_type": "code",
   "execution_count": 17,
   "id": "24215aaa-4c7a-495b-a5cd-3df718a798ce",
   "metadata": {
    "tags": []
   },
   "outputs": [
    {
     "data": {
      "text/plain": [
       "17"
      ]
     },
     "execution_count": 17,
     "metadata": {},
     "output_type": "execute_result"
    }
   ],
   "source": [
    "# This a simple arithmetic expression to mutiply then add integers\n",
    "(3*4)+5"
   ]
  },
  {
   "cell_type": "code",
   "execution_count": null,
   "id": "2e1f543b-d577-465a-87e9-df8e49b638f4",
   "metadata": {},
   "outputs": [],
   "source": []
  },
  {
   "cell_type": "code",
   "execution_count": 25,
   "id": "b8f26b44-b49d-4c27-a0fb-8535b0bb5f88",
   "metadata": {
    "tags": []
   },
   "outputs": [
    {
     "name": "stdout",
     "output_type": "stream",
     "text": [
      "3.3333333333333335\n"
     ]
    }
   ],
   "source": [
    "#  This will convert 200 minutes to hours by diving by 60\n",
    "x = 200 \n",
    "y = x/60\n",
    "print(y)"
   ]
  },
  {
   "cell_type": "code",
   "execution_count": null,
   "id": "ab38da6e-7727-4350-a123-eee6e849f091",
   "metadata": {},
   "outputs": [],
   "source": []
  },
  {
   "cell_type": "markdown",
   "id": "cbc47f72-7013-4739-94c6-7f966ccb5fe1",
   "metadata": {},
   "source": [
    "## Author \n",
    "Akil Ahnaf "
   ]
  },
  {
   "cell_type": "code",
   "execution_count": null,
   "id": "e6f373e1-43e9-477d-8615-2a0c37646a1a",
   "metadata": {},
   "outputs": [],
   "source": []
  }
 ],
 "metadata": {
  "kernelspec": {
   "display_name": "Python 3 (ipykernel)",
   "language": "python",
   "name": "python3"
  },
  "language_info": {
   "codemirror_mode": {
    "name": "ipython",
    "version": 3
   },
   "file_extension": ".py",
   "mimetype": "text/x-python",
   "name": "python",
   "nbconvert_exporter": "python",
   "pygments_lexer": "ipython3",
   "version": "3.11.7"
  }
 },
 "nbformat": 4,
 "nbformat_minor": 5
}
